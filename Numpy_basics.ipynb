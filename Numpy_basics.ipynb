{
  "nbformat": 4,
  "nbformat_minor": 0,
  "metadata": {
    "colab": {
      "name": "Numpy_basics.ipynb",
      "provenance": [],
      "toc_visible": true,
      "authorship_tag": "ABX9TyODK0A8JVhC6RlODBvX1Wz/",
      "include_colab_link": true
    },
    "kernelspec": {
      "name": "python3",
      "display_name": "Python 3"
    },
    "language_info": {
      "name": "python"
    }
  },
  "cells": [
    {
      "cell_type": "markdown",
      "metadata": {
        "id": "view-in-github",
        "colab_type": "text"
      },
      "source": [
        "<a href=\"https://colab.research.google.com/github/Fayikk/NUMPY_Basics/blob/master/Numpy_basics.ipynb\" target=\"_parent\"><img src=\"https://colab.research.google.com/assets/colab-badge.svg\" alt=\"Open In Colab\"/></a>"
      ]
    },
    {
      "cell_type": "code",
      "execution_count": 12,
      "metadata": {
        "colab": {
          "base_uri": "https://localhost:8080/"
        },
        "id": "I-eKGNHK-N8c",
        "outputId": "f75466f1-1052-48c6-916e-b3a68cc7815c"
      },
      "outputs": [
        {
          "output_type": "stream",
          "name": "stdout",
          "text": [
            "<class 'numpy.ndarray'>\n"
          ]
        }
      ],
      "source": [
        "import numpy as np # takma isim için as takısı kullandık\n",
        "\n",
        "#python list\n",
        "py_list=[1,2,3,4,5,6,7,8,9]\n",
        "#nump array\n",
        "result=np.array([1,2,3,4,5,6,7,8,9]) #burada dizimizi hazır hale getiriyoruz.\n",
        "result.ndim #Burada ise dizimizin boyutunu göstermektedir.\n",
        "print(type(result))#numpy üzerinden oluşturduğumuz dizi npArray'dir"
      ]
    },
    {
      "cell_type": "code",
      "source": [
        "py_multi=[[1,2,3],[4,5,6],[7,8,9]]"
      ],
      "metadata": {
        "id": "d_8MWFpN_D7v"
      },
      "execution_count": 13,
      "outputs": []
    },
    {
      "cell_type": "code",
      "source": [
        "#reshape() metodu ile şekillendirme işlemi\n",
        "np_multi=result.reshape(3,3)\n",
        "np_multi\n",
        "print(np_multi.ndim)#Dimension=boyut anlamına gelmektedir.\n",
        "\n",
        "np_multi.shape #shape metodu ile np_multi arrayinin 3'e 3'lük bir matris olduğunu bize söylemektedird."
      ],
      "metadata": {
        "colab": {
          "base_uri": "https://localhost:8080/"
        },
        "id": "SlasyEMVA0_O",
        "outputId": "f07c15a6-f9c6-44e6-fcc9-162d4c281bb6"
      },
      "execution_count": 20,
      "outputs": [
        {
          "output_type": "stream",
          "name": "stdout",
          "text": [
            "2\n"
          ]
        },
        {
          "output_type": "execute_result",
          "data": {
            "text/plain": [
              "(3, 3)"
            ]
          },
          "metadata": {},
          "execution_count": 20
        }
      ]
    },
    {
      "cell_type": "code",
      "source": [
        "import numpy as np\n",
        "# result=np.array([1,3,5,7,9])\n",
        "#elemanları kendimiz belirtmek istemezsek arange() metodunu kullanacağız\n",
        "# result=np.arange(1,10)#1 dahil ancak 10 dahil olmadan oluşturulan array'i görüyoruz:\n",
        "# result=np.arange(1,100,3) #Burada ise adım sayısnı kendimiz belirtebiliiriz:Burada 3er adım ile 100'e kadar gitmesini beklemekteyiz.\n",
        "# result=np.zeros(10)  #0'lardan oluşan bir dizi karşımıza gelmektedir.\n",
        "result=np.ones(10)#1'lerden oluşan bir array karşımıza gelmektedir.Bunlar görüldüğü üzere float tiptedirler.\n",
        "result"
      ],
      "metadata": {
        "colab": {
          "base_uri": "https://localhost:8080/"
        },
        "id": "UiG06rbrBokI",
        "outputId": "69f0561e-4ecd-4be8-bb84-77038f198b7f"
      },
      "execution_count": 27,
      "outputs": [
        {
          "output_type": "execute_result",
          "data": {
            "text/plain": [
              "array([1., 1., 1., 1., 1., 1., 1., 1., 1., 1.])"
            ]
          },
          "metadata": {},
          "execution_count": 27
        }
      ]
    },
    {
      "cell_type": "code",
      "source": [
        "# result=np.linspace(0,100,5) #linespace() metodu ile 0 ile 100 arasnın 5 eşit parçayı bölmek isteriz.Buda float tipindedir.Double değer ataması yapılabilmektedir.\n",
        "\n",
        "result=np.linspace(1,5,5)\n",
        "result"
      ],
      "metadata": {
        "colab": {
          "base_uri": "https://localhost:8080/"
        },
        "id": "ymtRZzCCDAnf",
        "outputId": "9029f805-cdda-4f4d-c8a7-388a0d719dcd"
      },
      "execution_count": 32,
      "outputs": [
        {
          "output_type": "execute_result",
          "data": {
            "text/plain": [
              "array([1., 2., 3., 4., 5.])"
            ]
          },
          "metadata": {},
          "execution_count": 32
        }
      ]
    },
    {
      "cell_type": "code",
      "source": [
        "result=np.random.randint(1,50)#1 ile 50 arasında rastgele sayı üretemeyi sağladık.\n",
        "result"
      ],
      "metadata": {
        "colab": {
          "base_uri": "https://localhost:8080/"
        },
        "id": "vJ57bgXlEaoX",
        "outputId": "efbdb550-2e13-4b53-9e86-dba7a299931e"
      },
      "execution_count": 35,
      "outputs": [
        {
          "output_type": "execute_result",
          "data": {
            "text/plain": [
              "37"
            ]
          },
          "metadata": {},
          "execution_count": 35
        }
      ]
    },
    {
      "cell_type": "code",
      "source": [
        "result=np.random.randint(1,10,3) #1 ile 10 arasında rastgele üretilmiş 3 sayı ekrana yazdırmaktadır:\n",
        "result"
      ],
      "metadata": {
        "colab": {
          "base_uri": "https://localhost:8080/"
        },
        "id": "xq-YvPGIE3Ew",
        "outputId": "8fe67004-e8e2-48c4-f141-eae1596ee266"
      },
      "execution_count": 36,
      "outputs": [
        {
          "output_type": "execute_result",
          "data": {
            "text/plain": [
              "array([6, 7, 7])"
            ]
          },
          "metadata": {},
          "execution_count": 36
        }
      ]
    },
    {
      "cell_type": "code",
      "source": [
        "result=np.random.rand(5) #random'dan gelen rand metodu ile 0 ile 1 değerleri arasında 5 farklı değer üretimi yapacaktır:\n",
        "\n",
        "result"
      ],
      "metadata": {
        "colab": {
          "base_uri": "https://localhost:8080/"
        },
        "id": "sGfeaVpPFRMR",
        "outputId": "fc4f72de-4b75-406d-e933-751f68bb90e9"
      },
      "execution_count": 38,
      "outputs": [
        {
          "output_type": "execute_result",
          "data": {
            "text/plain": [
              "array([0.44233888, 0.37997569, 0.29888638, 0.71124972, 0.93974883])"
            ]
          },
          "metadata": {},
          "execution_count": 38
        }
      ]
    },
    {
      "cell_type": "code",
      "source": [
        "np_array=np.arange(50)\n",
        "result=np_array.reshape(5,10) # 5'e 10'luk bir matris oluşturmuş oluyoruz.\n",
        "result"
      ],
      "metadata": {
        "colab": {
          "base_uri": "https://localhost:8080/"
        },
        "id": "6_XGnFdYFWwc",
        "outputId": "b9366891-b632-4f3c-fa66-c96d6aa404b2"
      },
      "execution_count": 42,
      "outputs": [
        {
          "output_type": "execute_result",
          "data": {
            "text/plain": [
              "array([[ 0,  1,  2,  3,  4,  5,  6,  7,  8,  9],\n",
              "       [10, 11, 12, 13, 14, 15, 16, 17, 18, 19],\n",
              "       [20, 21, 22, 23, 24, 25, 26, 27, 28, 29],\n",
              "       [30, 31, 32, 33, 34, 35, 36, 37, 38, 39],\n",
              "       [40, 41, 42, 43, 44, 45, 46, 47, 48, 49]])"
            ]
          },
          "metadata": {},
          "execution_count": 42
        }
      ]
    },
    {
      "cell_type": "code",
      "source": [
        "result=np.random.randint(1,100,10)\n",
        "result1=result.max() #max() komutu ile oluşturulan sayılar arasında bir en büyük sayıyı ekrana yazdırmaktadır.\n",
        "result2=result.min() #min() en küçük değeri ekrana yazıdrmaktadır.\n",
        "result1\n",
        "# result2"
      ],
      "metadata": {
        "colab": {
          "base_uri": "https://localhost:8080/"
        },
        "id": "sda3NYp-Fn3o",
        "outputId": "0f1f923c-f40e-43df-cadc-5ef0b0f1d68e"
      },
      "execution_count": 48,
      "outputs": [
        {
          "output_type": "execute_result",
          "data": {
            "text/plain": [
              "95"
            ]
          },
          "metadata": {},
          "execution_count": 48
        }
      ]
    },
    {
      "cell_type": "code",
      "source": [
        "result=np.random.randint(1,100,10)\n",
        "print(result)\n",
        "# result1=result.argmax() #argmax komutu ile üretilen en büyük sayının kaçıncı indekste olduğuna karar veren yapıdır.\n",
        "result1=result.argmin() #burada ise üretilen minimum sayının indeks'ini görmekteyiz. \n",
        "result1"
      ],
      "metadata": {
        "colab": {
          "base_uri": "https://localhost:8080/"
        },
        "id": "dFkOG-xQGHOl",
        "outputId": "dcc2adf5-11df-49b2-ea63-93fb6928930c"
      },
      "execution_count": 123,
      "outputs": [
        {
          "output_type": "stream",
          "name": "stdout",
          "text": [
            "[76 84 17 11 20 81 81 55 49 37]\n"
          ]
        },
        {
          "output_type": "execute_result",
          "data": {
            "text/plain": [
              "3"
            ]
          },
          "metadata": {},
          "execution_count": 123
        }
      ]
    },
    {
      "cell_type": "markdown",
      "source": [
        "#NUMPY DİZİLERİNİN İNDEKSLENMESİ"
      ],
      "metadata": {
        "id": "ishADhgFHj7c"
      }
    },
    {
      "cell_type": "code",
      "source": [
        "import numpy as np\n",
        "numbers=np.array([0,5,10,15,20,25,50,75])\n",
        "result=numbers[5] #5.indis'teki değeri tutar\n",
        "result=numbers[:3] # 0 dan başlayıp 3.indeksteki değere kadar girn yapıdır.\n",
        "result"
      ],
      "metadata": {
        "colab": {
          "base_uri": "https://localhost:8080/"
        },
        "id": "XIEAmqq9HGft",
        "outputId": "52b6969f-ca0a-4bc9-8d11-e6514676b2e8"
      },
      "execution_count": 56,
      "outputs": [
        {
          "output_type": "execute_result",
          "data": {
            "text/plain": [
              "array([ 0,  5, 10])"
            ]
          },
          "metadata": {},
          "execution_count": 56
        }
      ]
    },
    {
      "cell_type": "code",
      "source": [
        "numbers=np.array([[0,5,10,100],[15,20,25,105],[50,75,100,110]])\n",
        "result=numbers[0]\n",
        "result=numbers[0][2] #0.ideksteki satırın,2.sütun'undaki elemanın değelerini ekrana yazdırır.\n",
        "result=numbers[:,2] # her satırın 2.indeksteki elemanlarını ekrana yazdıran programdır.\n",
        "result=numbers[:,0] # \"     \"     0. indeksteki elemanları ekrana yazdıran programdır.\n",
        "result=numbers[:,1:3] #1.indeks dahil olmadan 3.indekse kadar olan kısımları alıp ekrana yazdıralım.\n",
        "result=numbers[:2,:2] #ilk 2 satır ve 2 sütun değerini ekrana yazdıran programdır.\n",
        "result"
      ],
      "metadata": {
        "colab": {
          "base_uri": "https://localhost:8080/"
        },
        "id": "NlUnV3EbH29Z",
        "outputId": "4d5a7129-2a0a-4097-f200-eaf1539bc49d"
      },
      "execution_count": 71,
      "outputs": [
        {
          "output_type": "execute_result",
          "data": {
            "text/plain": [
              "array([[ 0,  5],\n",
              "       [15, 20]])"
            ]
          },
          "metadata": {},
          "execution_count": 71
        }
      ]
    },
    {
      "cell_type": "code",
      "source": [
        "#Referans kopyalamsı işlemlerini gerçekleştirmiş olduk.\n",
        "arr1=np.arange(0,10)\n",
        "arr2=arr1\n",
        "arr2[0]=100\n",
        "arr1\n",
        "arr2"
      ],
      "metadata": {
        "colab": {
          "base_uri": "https://localhost:8080/"
        },
        "id": "Bj-j56yhKf7Z",
        "outputId": "c4e0ae79-611f-4c16-cf1d-b94424ae556d"
      },
      "execution_count": 74,
      "outputs": [
        {
          "output_type": "execute_result",
          "data": {
            "text/plain": [
              "array([100,   1,   2,   3,   4,   5,   6,   7,   8,   9])"
            ]
          },
          "metadata": {},
          "execution_count": 74
        }
      ]
    },
    {
      "cell_type": "code",
      "source": [
        "#ŞİMDİ İSE copy() metoduna bakalım.\n",
        "arr1=np.arange(1,11)\n",
        "arr2=arr1.copy()\n",
        "arr2[0]=98 #görüldüğü üzere arr2'nin 0.indisli elemanına 98 değer atamasını yapmış olduk.Ancak copy() metodu ile yer tutucuları birbirinden ayırdığımzı için ikisi içinde yapılan.\n",
        "#değişikliklerden arr2 ve arr1 etkilenmeyecektir\n",
        "arr1 #yazdırma işlemi yapıldığında arr1 0.indisli elemanın 98 olmadığını görebiliriz.\n"
      ],
      "metadata": {
        "colab": {
          "base_uri": "https://localhost:8080/"
        },
        "id": "P5jH5VI8M2r5",
        "outputId": "4b88741b-7d6a-4ad2-88f4-4988aa31ec84"
      },
      "execution_count": 79,
      "outputs": [
        {
          "output_type": "execute_result",
          "data": {
            "text/plain": [
              "array([ 1,  2,  3,  4,  5,  6,  7,  8,  9, 10])"
            ]
          },
          "metadata": {},
          "execution_count": 79
        }
      ]
    },
    {
      "cell_type": "markdown",
      "source": [
        "#NUMPY DİZİ OPERASYONLARI"
      ],
      "metadata": {
        "id": "9iIMpcnUOV_n"
      }
    },
    {
      "cell_type": "code",
      "source": [
        "import numpy as np"
      ],
      "metadata": {
        "id": "Y0jPkpREOVjp"
      },
      "execution_count": 80,
      "outputs": []
    },
    {
      "cell_type": "code",
      "source": [
        "numbers=np.random.randint(10,100,6)\n",
        "numbers2=np.random.randint(10,100,6)\n",
        "print(numbers)\n",
        "print(numbers2)\n",
        "result=numbers+numbers2 #dizinin elemanlarını indis sıralarına göre toplamaktadır.\n",
        "result2=numbers-numbers2\n",
        "print(\"arrayler arasındaki fark: {}\".format(result2))\n",
        "print(\"arrayler arasındaki toplam değer: {}\".format(result))\n",
        "print(\"arraylerin birbirleri capimi: \",result*result2)\n",
        "print(\"arraylerin birbirleri ile bolümü: \",result/result2) #bölüm işleminde değişken tiplerinde dolayı problem oluşabilir."
      ],
      "metadata": {
        "colab": {
          "base_uri": "https://localhost:8080/"
        },
        "id": "6x1Gb4uaNl-v",
        "outputId": "023c6d10-ca24-4348-ac2e-db4f5359a5ad"
      },
      "execution_count": 89,
      "outputs": [
        {
          "output_type": "stream",
          "name": "stdout",
          "text": [
            "[89 32 82 93 78 38]\n",
            "[55 37 30 68 51 89]\n",
            "arrayler arasındaki fark: [ 34  -5  52  25  27 -51]\n",
            "arrayler arasındaki toplam değer: [144  69 112 161 129 127]\n",
            "arraylerin birbirleri capimi:  [ 4896  -345  5824  4025  3483 -6477]\n",
            "arraylerin birbirleri ile bolümü:  [  4.23529412 -13.8          2.15384615   6.44         4.77777778\n",
            "  -2.49019608]\n"
          ]
        }
      ]
    },
    {
      "cell_type": "code",
      "source": [
        "#Herhangi bir dizinin trigonometrik değerlerini almak istyoruz.\n",
        "result=np.sin(numbers)\n",
        "print(\"cosinus degeri: \",np.cos(numbers))\n",
        "print(\"tanjant degeri: \",np.tan(numbers))\n",
        "# print(\"cotanjant degeri: \",np.cot(numbers))\n",
        "\n",
        "#KAREKÖKLERİNİ ALMAK İÇİN\n",
        "result=np.sqrt(numbers)\n",
        "result"
      ],
      "metadata": {
        "colab": {
          "base_uri": "https://localhost:8080/"
        },
        "id": "2GQsybHzOnfe",
        "outputId": "470436f7-e921-4ada-c78d-fa43dfcd9268"
      },
      "execution_count": 96,
      "outputs": [
        {
          "output_type": "stream",
          "name": "stdout",
          "text": [
            "cosinus degeri:  [ 0.51017704  0.83422336  0.9496777   0.3174287  -0.85780309  0.95507364]\n",
            "tanjant degeri:  [ 1.68582537  0.66100604  0.32982641 -2.98738626 -0.59918     0.31030966]\n"
          ]
        },
        {
          "output_type": "execute_result",
          "data": {
            "text/plain": [
              "array([9.43398113, 5.65685425, 9.05538514, 9.64365076, 8.83176087,\n",
              "       6.164414  ])"
            ]
          },
          "metadata": {},
          "execution_count": 96
        }
      ]
    },
    {
      "cell_type": "code",
      "source": [
        "mnumbers1=numbers.reshape(2,3)\n",
        "mnumbers2=numbers2.reshape(2,3)\n",
        "\n",
        "print(mnumbers1)\n",
        "print(\"********\")\n",
        "print(mnumbers2)"
      ],
      "metadata": {
        "colab": {
          "base_uri": "https://localhost:8080/"
        },
        "id": "focCYaFMP_nU",
        "outputId": "6f52b641-e0ea-4c2a-a614-7f456ba312fc"
      },
      "execution_count": 105,
      "outputs": [
        {
          "output_type": "stream",
          "name": "stdout",
          "text": [
            "[[89 32 82]\n",
            " [93 78 38]]\n",
            "********\n",
            "[[55 37 30]\n",
            " [68 51 89]]\n"
          ]
        }
      ]
    },
    {
      "cell_type": "code",
      "source": [
        "#Matrisleri birbirleri ile dikey olarak birleştirme işlemi yapalım.\n",
        "result=np.vstack((mnumbers1,mnumbers2)) #vstack metodu ile iki farklı matris'i dikey(vertical) olarak birleştirme işlemi yapar,satır sayısını arttırmış olacaktır.\n",
        "result"
      ],
      "metadata": {
        "colab": {
          "base_uri": "https://localhost:8080/"
        },
        "id": "AY95NRAbQ_Ku",
        "outputId": "130af4be-f424-474c-ee82-eb2a06fe7c18"
      },
      "execution_count": 111,
      "outputs": [
        {
          "output_type": "execute_result",
          "data": {
            "text/plain": [
              "array([[89, 32, 82],\n",
              "       [93, 78, 38],\n",
              "       [55, 37, 30],\n",
              "       [68, 51, 89]])"
            ]
          },
          "metadata": {},
          "execution_count": 111
        }
      ]
    },
    {
      "cell_type": "code",
      "source": [
        "#Matrisleri birbirleri ile yatay olarak birleştirme işlemi yapalım.\n",
        "result=np.hstack((mnumbers1,mnumbers2)) #hstack metodu ile iki farklı matris'i yatay(horizantal) olarak birleştirme işlemi yapar,sütun sayısını arttırmış olacaktır.\n",
        "result"
      ],
      "metadata": {
        "colab": {
          "base_uri": "https://localhost:8080/"
        },
        "id": "3qimq_3pRtvy",
        "outputId": "11cbff76-068d-4bf6-a89e-e061134eceb3"
      },
      "execution_count": 113,
      "outputs": [
        {
          "output_type": "execute_result",
          "data": {
            "text/plain": [
              "array([[89, 32, 82, 55, 37, 30],\n",
              "       [93, 78, 38, 68, 51, 89]])"
            ]
          },
          "metadata": {},
          "execution_count": 113
        }
      ]
    },
    {
      "cell_type": "code",
      "source": [
        "mynumbers=np.arange(10,100,3)\n",
        "result=mynumbers>=50 #mynumbers listesindeki değerler 50'den büyük eşitmidir.\n",
        "division=mynumbers%2==0\n",
        "\n",
        "print(mynumbers)\n",
        "print(\"*********\")\n",
        "print(result)\n",
        "print(\"*********\")\n",
        "print(division)\n",
        "print(\"************\")\n",
        "print(mynumbers[division]) #yukarıda division değerin 2'ye bölünebilen değrleri indeks şeklinde yazdırmasını gerçekleştirirsek.\n",
        "#2'ye bölünebilen değerlleri ekranda yazdıracaktır:"
      ],
      "metadata": {
        "colab": {
          "base_uri": "https://localhost:8080/"
        },
        "id": "xD3Zr2-5SaS3",
        "outputId": "4cccead4-4f74-4d0b-997b-7623ec4b8251"
      },
      "execution_count": 122,
      "outputs": [
        {
          "output_type": "stream",
          "name": "stdout",
          "text": [
            "[10 13 16 19 22 25 28 31 34 37 40 43 46 49 52 55 58 61 64 67 70 73 76 79\n",
            " 82 85 88 91 94 97]\n",
            "*********\n",
            "[False False False False False False False False False False False False\n",
            " False False  True  True  True  True  True  True  True  True  True  True\n",
            "  True  True  True  True  True  True]\n",
            "*********\n",
            "[ True False  True False  True False  True False  True False  True False\n",
            "  True False  True False  True False  True False  True False  True False\n",
            "  True False  True False  True False]\n",
            "************\n",
            "[10 16 22 28 34 40 46 52 58 64 70 76 82 88 94]\n"
          ]
        }
      ]
    },
    {
      "cell_type": "code",
      "source": [
        ""
      ],
      "metadata": {
        "id": "Q8NXI1kEYKui"
      },
      "execution_count": null,
      "outputs": []
    }
  ]
}