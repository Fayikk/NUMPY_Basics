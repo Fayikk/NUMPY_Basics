{
  "nbformat": 4,
  "nbformat_minor": 0,
  "metadata": {
    "colab": {
      "name": "Numpy_Applications.ipynb",
      "provenance": [],
      "authorship_tag": "ABX9TyP8LoNWZ9pI2RgiCiMKxKju",
      "include_colab_link": true
    },
    "kernelspec": {
      "name": "python3",
      "display_name": "Python 3"
    },
    "language_info": {
      "name": "python"
    }
  },
  "cells": [
    {
      "cell_type": "markdown",
      "metadata": {
        "id": "view-in-github",
        "colab_type": "text"
      },
      "source": [
        "<a href=\"https://colab.research.google.com/github/Fayikk/NUMPY_Basics/blob/master/Numpy_Applications.ipynb\" target=\"_parent\"><img src=\"https://colab.research.google.com/assets/colab-badge.svg\" alt=\"Open In Colab\"/></a>"
      ]
    },
    {
      "cell_type": "markdown",
      "source": [
        "#NUMPY PEKİŞTİRMEK AÇISINDAN UYUGULAMA YAPALIM"
      ],
      "metadata": {
        "id": "XhTWqPzWaGZg"
      }
    },
    {
      "cell_type": "code",
      "execution_count": 21,
      "metadata": {
        "colab": {
          "base_uri": "https://localhost:8080/"
        },
        "id": "XR-Qd8NxZ3P4",
        "outputId": "7a5a30bb-40ef-4f93-a53a-4bb804d1ab93"
      },
      "outputs": [
        {
          "output_type": "execute_result",
          "data": {
            "text/plain": [
              "array([10, 15, 30, 45, 60])"
            ]
          },
          "metadata": {},
          "execution_count": 21
        }
      ],
      "source": [
        "import numpy as np\n",
        "#1- (10,15,30,45,60) değerlerine sahip numpy dizisi oluşturunuz.\n",
        "my_numpy=np.array([10,15,30,45,60])\n",
        "my_numpy"
      ]
    },
    {
      "cell_type": "code",
      "source": [
        "#2- (5-15) arasındaki sayılarla numpy dizisi oluşturunuz.\n",
        "result=np.arange(5,16)\n",
        "result"
      ],
      "metadata": {
        "colab": {
          "base_uri": "https://localhost:8080/"
        },
        "id": "2-caaG9raS6r",
        "outputId": "c4701c9c-4a0f-4a94-9871-f9372ef0c017"
      },
      "execution_count": 25,
      "outputs": [
        {
          "output_type": "execute_result",
          "data": {
            "text/plain": [
              "array([ 5,  6,  7,  8,  9, 10, 11, 12, 13, 14, 15])"
            ]
          },
          "metadata": {},
          "execution_count": 25
        }
      ]
    },
    {
      "cell_type": "code",
      "source": [
        "#3- (50-100) arasında 5'er 5'er artarak numpy dizisini oluşturunuz.\n",
        "result=np.arange(50,101,5)\n",
        "result"
      ],
      "metadata": {
        "colab": {
          "base_uri": "https://localhost:8080/"
        },
        "id": "YlEbcOFoaYaU",
        "outputId": "51833e07-0f33-46a0-b860-7c3fa56700b1"
      },
      "execution_count": 101,
      "outputs": [
        {
          "output_type": "execute_result",
          "data": {
            "text/plain": [
              "array([ 50,  55,  60,  65,  70,  75,  80,  85,  90,  95, 100])"
            ]
          },
          "metadata": {},
          "execution_count": 101
        }
      ]
    },
    {
      "cell_type": "code",
      "source": [
        "#4- 10 elemanlı sıfırlardan oluşan bir dizi oluşturunuz.\n",
        "result=np.zeros(10)\n",
        "result"
      ],
      "metadata": {
        "colab": {
          "base_uri": "https://localhost:8080/"
        },
        "id": "48vqMP7xafZg",
        "outputId": "9d844d8a-b8ed-4e70-9d64-5a2fd213877d"
      },
      "execution_count": 28,
      "outputs": [
        {
          "output_type": "execute_result",
          "data": {
            "text/plain": [
              "array([0., 0., 0., 0., 0., 0., 0., 0., 0., 0.])"
            ]
          },
          "metadata": {},
          "execution_count": 28
        }
      ]
    },
    {
      "cell_type": "code",
      "source": [
        "#5- 10 elemanlı birlerden oluşan bir dizi oluşturunuz.\n",
        "result=np.ones(10)\n",
        "result"
      ],
      "metadata": {
        "colab": {
          "base_uri": "https://localhost:8080/"
        },
        "id": "TeDv8LEyalf4",
        "outputId": "7570a7ca-c357-4885-d1b3-82eef99f1d7b"
      },
      "execution_count": 30,
      "outputs": [
        {
          "output_type": "execute_result",
          "data": {
            "text/plain": [
              "array([1., 1., 1., 1., 1., 1., 1., 1., 1., 1.])"
            ]
          },
          "metadata": {},
          "execution_count": 30
        }
      ]
    },
    {
      "cell_type": "code",
      "source": [
        "#6- (0-100) arasında eşit aralıklı 5 sayı üretin\n",
        "# numbers=np.arange(0,101)\n",
        "\n",
        "numbers=np.linspace(0,100,5)\n",
        "numbers\n"
      ],
      "metadata": {
        "colab": {
          "base_uri": "https://localhost:8080/"
        },
        "id": "-L5DhAwgaqBb",
        "outputId": "4d286bce-4f6c-4492-dd4b-aba0eaeae160"
      },
      "execution_count": 40,
      "outputs": [
        {
          "output_type": "execute_result",
          "data": {
            "text/plain": [
              "array([  0.,  25.,  50.,  75., 100.])"
            ]
          },
          "metadata": {},
          "execution_count": 40
        }
      ]
    },
    {
      "cell_type": "code",
      "source": [
        "#7- (10-30) arasında rastgele 5 tane tamsayı üretin.\n",
        "result=np.random.randint(10,30,5)\n",
        "result"
      ],
      "metadata": {
        "colab": {
          "base_uri": "https://localhost:8080/"
        },
        "id": "tIaM-_z4awTR",
        "outputId": "e0684fc9-fbe0-42fd-f616-98cbc70d8232"
      },
      "execution_count": 43,
      "outputs": [
        {
          "output_type": "execute_result",
          "data": {
            "text/plain": [
              "array([11, 10, 20, 26, 19])"
            ]
          },
          "metadata": {},
          "execution_count": 43
        }
      ]
    },
    {
      "cell_type": "code",
      "source": [
        "#8- [-1 ile 1] arasında 10 adet sayı üretin\n",
        "result=np.random.random(10)\n",
        "result"
      ],
      "metadata": {
        "colab": {
          "base_uri": "https://localhost:8080/"
        },
        "id": "P4vRlQG_a2QC",
        "outputId": "acae2cef-45f1-440f-adf6-9ec98aeddf39"
      },
      "execution_count": 45,
      "outputs": [
        {
          "output_type": "execute_result",
          "data": {
            "text/plain": [
              "array([0.67601778, 0.39120336, 0.91546461, 0.00685515, 0.43168327,\n",
              "       0.95649579, 0.3376016 , 0.87926409, 0.22157037, 0.25803327])"
            ]
          },
          "metadata": {},
          "execution_count": 45
        }
      ]
    },
    {
      "cell_type": "code",
      "source": [
        "#9- (3X5) boyutlarında (10-50) arasında rastgele bir matris oluşturunuz. \n",
        "my_array=np.random.randint(10,50,15)\n",
        "result=my_array.reshape(3,5)\n",
        "result"
      ],
      "metadata": {
        "colab": {
          "base_uri": "https://localhost:8080/"
        },
        "id": "hCOHOn5Ea6YD",
        "outputId": "66af453d-5fe5-4c79-aee1-2618356ecf3a"
      },
      "execution_count": 50,
      "outputs": [
        {
          "output_type": "execute_result",
          "data": {
            "text/plain": [
              "array([[34, 10, 12, 38, 38],\n",
              "       [27, 36, 20, 12, 45],\n",
              "       [17, 14, 19, 33, 22]])"
            ]
          },
          "metadata": {},
          "execution_count": 50
        }
      ]
    },
    {
      "cell_type": "code",
      "source": [
        " #10- Üretilen matrisin satır ve sütun sayıları toplamlarını hesaplayınız."
      ],
      "metadata": {
        "id": "qKVQ2SO3bI3R"
      },
      "execution_count": 10,
      "outputs": []
    },
    {
      "cell_type": "code",
      "source": [
        "#11-Üretilen matrisin en büyük ve en küçük ortalaması nedir?\n",
        "result=my_array.max()\n",
        "result1=my_array.min()\n",
        "print(result)\n",
        "print(result1)"
      ],
      "metadata": {
        "colab": {
          "base_uri": "https://localhost:8080/"
        },
        "id": "QE0Tc3nnbTm6",
        "outputId": "5b77be55-8277-4014-9a3d-6ac14b521c80"
      },
      "execution_count": 53,
      "outputs": [
        {
          "output_type": "stream",
          "name": "stdout",
          "text": [
            "45\n",
            "10\n"
          ]
        }
      ]
    },
    {
      "cell_type": "code",
      "source": [
        "#12- Üretilen matrisin en büyük değerinin indeksi kaçtır?\n",
        "resultt=my_array[result1]\n",
        "resultt"
      ],
      "metadata": {
        "colab": {
          "base_uri": "https://localhost:8080/"
        },
        "id": "gAGaZBhXbZOR",
        "outputId": "c8dcc950-115b-4188-a7ff-e48420a25b67"
      },
      "execution_count": 54,
      "outputs": [
        {
          "output_type": "execute_result",
          "data": {
            "text/plain": [
              "17"
            ]
          },
          "metadata": {},
          "execution_count": 54
        }
      ]
    },
    {
      "cell_type": "code",
      "source": [
        "#13- (10-20) arasındaki sayıları içeren dizinin ilk 3 elemanını seçiniz.\n",
        "my_list=np.arange(10,21)\n",
        "my_list"
      ],
      "metadata": {
        "colab": {
          "base_uri": "https://localhost:8080/"
        },
        "id": "FTP7G97xbg1B",
        "outputId": "52525127-2ca0-4433-d51d-54fc7a509678"
      },
      "execution_count": 55,
      "outputs": [
        {
          "output_type": "execute_result",
          "data": {
            "text/plain": [
              "array([10, 11, 12, 13, 14, 15, 16, 17, 18, 19, 20])"
            ]
          },
          "metadata": {},
          "execution_count": 55
        }
      ]
    },
    {
      "cell_type": "code",
      "source": [
        "#14- Üretilen dizinin elemanlarını tersten yazdırın.\n",
        "print(reversed(my_array))"
      ],
      "metadata": {
        "colab": {
          "base_uri": "https://localhost:8080/"
        },
        "id": "F8xpol4zbqZn",
        "outputId": "8b4b8f35-8337-4d65-c2e9-e61e236ac474"
      },
      "execution_count": 78,
      "outputs": [
        {
          "output_type": "stream",
          "name": "stdout",
          "text": [
            "<reversed object at 0x7f4d591e0dd0>\n"
          ]
        }
      ]
    },
    {
      "cell_type": "code",
      "source": [
        "#15- Üretilen matrisin ilk satırını seçiniz.\n",
        "my_array=np.random.randint(10,50,15)\n",
        "result=my_array.reshape(3,5)\n",
        "result1=result[0]#ilk satır için gerekli kod bloğu\n",
        "print(result)\n",
        "result1"
      ],
      "metadata": {
        "colab": {
          "base_uri": "https://localhost:8080/"
        },
        "id": "sTdh1zd_b1c3",
        "outputId": "3e34f08b-3cd2-43a8-f362-eadd3743b6ff"
      },
      "execution_count": 87,
      "outputs": [
        {
          "output_type": "stream",
          "name": "stdout",
          "text": [
            "[[33 38 49 15 40]\n",
            " [21 15 33 33 13]\n",
            " [34 23 22 10 16]]\n"
          ]
        },
        {
          "output_type": "execute_result",
          "data": {
            "text/plain": [
              "array([33, 38, 49, 15, 40])"
            ]
          },
          "metadata": {},
          "execution_count": 87
        }
      ]
    },
    {
      "cell_type": "code",
      "source": [
        "#16- Üretilen matrisin 2.satır 3.sütundaki elemanı hangisidir?\n",
        "result3=result[1][2]\n",
        "print(result3)"
      ],
      "metadata": {
        "colab": {
          "base_uri": "https://localhost:8080/"
        },
        "id": "aFWDrZKWb7TA",
        "outputId": "3045034d-50f0-40de-858f-b1aa5993f3ce"
      },
      "execution_count": 88,
      "outputs": [
        {
          "output_type": "stream",
          "name": "stdout",
          "text": [
            "33\n"
          ]
        }
      ]
    },
    {
      "cell_type": "code",
      "source": [
        "#17-Üretilen matrisin tüm satırlardaki ilk elemanın seçiniz.\n",
        "result[:]"
      ],
      "metadata": {
        "colab": {
          "base_uri": "https://localhost:8080/"
        },
        "id": "vT1M04h0cByk",
        "outputId": "90333647-4ac6-4f47-d3a9-5542f529f344"
      },
      "execution_count": 89,
      "outputs": [
        {
          "output_type": "execute_result",
          "data": {
            "text/plain": [
              "array([[33, 38, 49, 15, 40],\n",
              "       [21, 15, 33, 33, 13],\n",
              "       [34, 23, 22, 10, 16]])"
            ]
          },
          "metadata": {},
          "execution_count": 89
        }
      ]
    },
    {
      "cell_type": "code",
      "source": [
        "#18-Üretilen matrisin her bir elemanın karesini alınız.\n",
        "result4=np.sqrt(result)\n",
        "result4\n"
      ],
      "metadata": {
        "colab": {
          "base_uri": "https://localhost:8080/"
        },
        "id": "Km10r4mwcG9R",
        "outputId": "5af842b7-9bad-472a-f6f6-97520584ea68"
      },
      "execution_count": 95,
      "outputs": [
        {
          "output_type": "execute_result",
          "data": {
            "text/plain": [
              "array([[5.74456265, 6.164414  , 7.        , 3.87298335, 6.32455532],\n",
              "       [4.58257569, 3.87298335, 5.74456265, 5.74456265, 3.60555128],\n",
              "       [5.83095189, 4.79583152, 4.69041576, 3.16227766, 4.        ]])"
            ]
          },
          "metadata": {},
          "execution_count": 95
        }
      ]
    },
    {
      "cell_type": "code",
      "source": [
        "#19-Üretilen matris elemanlarının hangisi pozitif çift sayıdır?Aralığı (-50,+50) arasında yapınız.\n",
        "my_Array=np.arange(-50,51,2)\n",
        "result=my_Array>0\n",
        "print(result)\n",
        "print(\"*******\")\n",
        "print(my_Array[result])"
      ],
      "metadata": {
        "colab": {
          "base_uri": "https://localhost:8080/"
        },
        "id": "jIqv2GyYcN6z",
        "outputId": "583b812e-0016-4c07-c6cf-98cb73da8bc2"
      },
      "execution_count": 100,
      "outputs": [
        {
          "output_type": "stream",
          "name": "stdout",
          "text": [
            "[False False False False False False False False False False False False\n",
            " False False False False False False False False False False False False\n",
            " False False  True  True  True  True  True  True  True  True  True  True\n",
            "  True  True  True  True  True  True  True  True  True  True  True  True\n",
            "  True  True  True]\n",
            "*******\n",
            "[ 2  4  6  8 10 12 14 16 18 20 22 24 26 28 30 32 34 36 38 40 42 44 46 48\n",
            " 50]\n"
          ]
        }
      ]
    },
    {
      "cell_type": "code",
      "source": [
        ""
      ],
      "metadata": {
        "id": "zY26jFJVoysr"
      },
      "execution_count": null,
      "outputs": []
    }
  ]
}